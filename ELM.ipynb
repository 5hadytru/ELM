{
  "nbformat": 4,
  "nbformat_minor": 0,
  "metadata": {
    "colab": {
      "name": "ELM.ipynb",
      "provenance": [],
      "collapsed_sections": [],
      "authorship_tag": "ABX9TyPfYbYm/V1F5vro22ClmSQT",
      "include_colab_link": true
    },
    "kernelspec": {
      "name": "python3",
      "display_name": "Python 3"
    },
    "language_info": {
      "name": "python"
    }
  },
  "cells": [
    {
      "cell_type": "markdown",
      "metadata": {
        "id": "view-in-github",
        "colab_type": "text"
      },
      "source": [
        "<a href=\"https://colab.research.google.com/github/5hadytru/ELM/blob/main/ELM.ipynb\" target=\"_parent\"><img src=\"https://colab.research.google.com/assets/colab-badge.svg\" alt=\"Open In Colab\"/></a>"
      ]
    },
    {
      "cell_type": "code",
      "metadata": {
        "id": "uE1Ks6Xeqj_c"
      },
      "source": [
        "import torch\n",
        "import torch.nn as nn\n",
        "import torch.nn.functional as F\n",
        "import torchvision\n",
        "import torchvision.transforms as transforms"
      ],
      "execution_count": 1,
      "outputs": []
    },
    {
      "cell_type": "code",
      "metadata": {
        "id": "MycyuNc3qs5r"
      },
      "source": [
        "BATCH_SIZE = 32\n",
        "\n",
        "## transformations\n",
        "transform = transforms.Compose(\n",
        "    [transforms.ToTensor()])\n",
        "\n",
        "## download training + test datasets\n",
        "trainset = torchvision.datasets.MNIST(root='./data', train=True,\n",
        "                                        download=True, transform=transform)\n",
        "testset = torchvision.datasets.MNIST(root='./data', train=False,\n",
        "                                        download=True, transform=transform)\n",
        "\n",
        "## create an iterator for the training data\n",
        "trainloader = torch.utils.data.DataLoader(trainset, batch_size=BATCH_SIZE,\n",
        "                                          shuffle=True, num_workers=2)\n",
        "\n",
        "## do the same for the test set\n",
        "testloader = torch.utils.data.DataLoader(testset, batch_size=BATCH_SIZE,\n",
        "                                         shuffle=False, num_workers=2)"
      ],
      "execution_count": 100,
      "outputs": []
    },
    {
      "cell_type": "code",
      "metadata": {
        "id": "dtmbM5mYq8A0"
      },
      "source": [
        "import matplotlib.pyplot as plt\n",
        "import numpy as np\n",
        "\n",
        "## functions to show an image\n",
        "def imshow(img):\n",
        "    #img = img / 2 + 0.5     # unnormalize\n",
        "    npimg = img.numpy()\n",
        "    plt.imshow(np.transpose(npimg, (1, 2, 0)))\n",
        "\n",
        "## get some random training images\n",
        "trainiter = iter(trainloader)\n",
        "images, labels = trainiter.next()\n",
        "\n",
        "## show images\n",
        "imshow(torchvision.utils.make_grid(images))"
      ],
      "execution_count": 36,
      "outputs": []
    },
    {
      "cell_type": "code",
      "metadata": {
        "colab": {
          "base_uri": "https://localhost:8080/"
        },
        "id": "Vhvah-0Rr6Ye",
        "outputId": "ae9a98e0-ada8-455c-860e-c3a95e363ae9"
      },
      "source": [
        "for images, labels in trainloader:\n",
        "    print(\"Image batch dimensions:\", images.shape)\n",
        "    print(\"Image label dimensions:\", labels.shape)\n",
        "    print(type(images), type(labels))\n",
        "    print(labels)\n",
        "    break"
      ],
      "execution_count": 7,
      "outputs": [
        {
          "output_type": "stream",
          "name": "stdout",
          "text": [
            "Image batch dimensions: torch.Size([32, 1, 28, 28])\n",
            "Image label dimensions: torch.Size([32])\n",
            "<class 'torch.Tensor'> <class 'torch.Tensor'>\n",
            "tensor([1, 3, 0, 0, 4, 0, 5, 2, 8, 6, 2, 6, 2, 5, 8, 7, 2, 5, 7, 7, 1, 3, 5, 5,\n",
            "        5, 0, 2, 1, 4, 5, 9, 3])\n"
          ]
        }
      ]
    },
    {
      "cell_type": "code",
      "source": [
        "  labels.shape[0]"
      ],
      "metadata": {
        "colab": {
          "base_uri": "https://localhost:8080/"
        },
        "id": "n9SnmKFAYEZI",
        "outputId": "afdb9d85-bf26-4626-d119-b4fd153e76f1"
      },
      "execution_count": 8,
      "outputs": [
        {
          "output_type": "execute_result",
          "data": {
            "text/plain": [
              "32"
            ]
          },
          "metadata": {},
          "execution_count": 8
        }
      ]
    },
    {
      "cell_type": "code",
      "metadata": {
        "id": "3q0Q8LGqsCQV",
        "colab": {
          "base_uri": "https://localhost:8080/"
        },
        "outputId": "2cf13e14-5dec-4fd0-e28b-59782cff4142"
      },
      "source": [
        "# Get cpu or gpu device for training.\n",
        "device = \"cuda\" if torch.cuda.is_available() else \"cpu\"\n",
        "print(f\"Using {device} device\")\n",
        "\n",
        "class ELM(nn.Module):\n",
        "    def __init__(self, input_dim, hidden_dim, output_dim):\n",
        "        super(ELM, self).__init__()\n",
        "\n",
        "        self.hidden_dim = hidden_dim\n",
        "        self.output_dim = output_dim\n",
        "\n",
        "        self.hidden = nn.Linear(input_dim, hidden_dim)\n",
        "        self.beta = nn.Linear(hidden_dim, output_dim, bias=False)\n",
        "\n",
        "        # initialize hidden layer with Gaussian random weights + biases of mean 0 and var 1\n",
        "        self.hidden.weight.data = torch.randn_like(self.hidden.weight.data)\n",
        "        self.hidden.bias.data = torch.randn_like(self.hidden.bias.data)\n",
        "\n",
        "    def randomize_H(self):\n",
        "        # initialize hidden layer with Gaussian random weights + biases of mean 0 and var 1\n",
        "        self.hidden.weight.data = torch.randn_like(self.hidden.weight.data)\n",
        "        self.hidden.bias.data = torch.randn_like(self.hidden.bias.data)\n",
        "\n",
        "    def fit(self, trainloader, one_hot=False, flatten=False):\n",
        "        H_outputs = torch.empty(len(trainloader.dataset), self.hidden_dim)\n",
        "        labels = torch.empty(len(trainloader.dataset), self.output_dim) # will be Nxoutput_dim\n",
        "\n",
        "        # compute and append hidden layer output for each sample\n",
        "        dataset_count = 0 # keep track of index of current training sample\n",
        "        for data_batch, label_batch in trainloader:\n",
        "            \n",
        "            batch_count = 0 # keep track of index in this batch\n",
        "            for x in data_batch:\n",
        "                # compute and append hidden layer output for this sample\n",
        "                if flatten:\n",
        "                    H_outputs[dataset_count] = F.sigmoid(self.hidden(torch.flatten(x)))\n",
        "                else:\n",
        "                    H_outputs[dataset_count] = F.sigmoid(self.hidden(x))\n",
        "\n",
        "                # append one-hot encoded label to labels tensor\n",
        "                if one_hot:\n",
        "                    labels[dataset_count] = F.one_hot(label_batch[batch_count], num_classes=self.output_dim)\n",
        "                else:\n",
        "                    labels[dataset_count] = label_batch[batch_count]\n",
        "\n",
        "                dataset_count += 1 \n",
        "                batch_count += 1\n",
        "        \n",
        "        # compute pseudoinverse of H\n",
        "        H_outputs_pinv = torch.linalg.pinv(H_outputs)\n",
        "\n",
        "        # apply beta layer = pseudoinverse(H) * labels\n",
        "        print(f\"Beta shape: {self.beta.weight.data.shape}\")\n",
        "        self.beta.weight.data = torch.matmul(H_outputs_pinv, labels)\n",
        "\n",
        "    def forward(self, x, flatten=False):\n",
        "        if flatten:\n",
        "            H_out = F.sigmoid(self.hidden(torch.flatten(x)))\n",
        "        else:\n",
        "            H_out = F.sigmoid(self.hidden(x))\n",
        "        pred = torch.matmul(H_out, self.beta.weight.data)\n",
        "        return torch.argmax(pred).item()"
      ],
      "execution_count": 172,
      "outputs": [
        {
          "output_type": "stream",
          "name": "stdout",
          "text": [
            "Using cpu device\n"
          ]
        }
      ]
    },
    {
      "cell_type": "code",
      "source": [
        "model = ELM(28*28, 3000, 10)\n",
        "model.fit(trainloader, one_hot=True, flatten=True)"
      ],
      "metadata": {
        "colab": {
          "base_uri": "https://localhost:8080/"
        },
        "id": "t9rJCLEXaOJ4",
        "outputId": "de320c3d-b3b2-4ce0-f71a-95daf6375a3e"
      },
      "execution_count": 177,
      "outputs": [
        {
          "output_type": "stream",
          "name": "stderr",
          "text": [
            "/usr/local/lib/python3.7/dist-packages/torch/nn/functional.py:1806: UserWarning: nn.functional.sigmoid is deprecated. Use torch.sigmoid instead.\n",
            "  warnings.warn(\"nn.functional.sigmoid is deprecated. Use torch.sigmoid instead.\")\n"
          ]
        },
        {
          "output_type": "stream",
          "name": "stdout",
          "text": [
            "Beta shape: torch.Size([10, 3000])\n"
          ]
        }
      ]
    },
    {
      "cell_type": "code",
      "source": [
        "# test the network\n",
        "correct = 0\n",
        "incorrect = 0\n",
        "for image_batch, label_batch in testloader:\n",
        "    count = 0\n",
        "    for image in image_batch:\n",
        "        pred = model.forward(image, flatten=True)\n",
        "        if label_batch[count] == pred:\n",
        "            correct += 1\n",
        "        else:\n",
        "            incorrect += 1\n",
        "        count += 1\n",
        "\n",
        "print(correct / (correct + incorrect))"
      ],
      "metadata": {
        "id": "7GBEYvB5aGjN",
        "colab": {
          "base_uri": "https://localhost:8080/"
        },
        "outputId": "153973d0-247e-4b4a-d5ca-2916888a4daf"
      },
      "execution_count": 178,
      "outputs": [
        {
          "output_type": "stream",
          "name": "stderr",
          "text": [
            "/usr/local/lib/python3.7/dist-packages/torch/nn/functional.py:1806: UserWarning: nn.functional.sigmoid is deprecated. Use torch.sigmoid instead.\n",
            "  warnings.warn(\"nn.functional.sigmoid is deprecated. Use torch.sigmoid instead.\")\n"
          ]
        },
        {
          "output_type": "stream",
          "name": "stdout",
          "text": [
            "0.9602\n"
          ]
        }
      ]
    }
  ]
}